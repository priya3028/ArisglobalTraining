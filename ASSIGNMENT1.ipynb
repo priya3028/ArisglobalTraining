{
 "cells": [
  {
   "cell_type": "markdown",
   "id": "cd90e7e1",
   "metadata": {},
   "source": [
    "# 1.LIST"
   ]
  },
  {
   "cell_type": "code",
   "execution_count": 1,
   "id": "493dfdae",
   "metadata": {},
   "outputs": [],
   "source": [
    "list1=[1,2,3,4]\n",
    "list2=[\"A\",\"B\",\"C\"]\n",
    "list3=[1,\"Hello\"]"
   ]
  },
  {
   "cell_type": "code",
   "execution_count": 2,
   "id": "6adfc0e7",
   "metadata": {},
   "outputs": [
    {
     "data": {
      "text/plain": [
       "3"
      ]
     },
     "execution_count": 2,
     "metadata": {},
     "output_type": "execute_result"
    }
   ],
   "source": [
    "\n",
    "list1[2]"
   ]
  },
  {
   "cell_type": "code",
   "execution_count": 3,
   "id": "363cf22c",
   "metadata": {},
   "outputs": [
    {
     "data": {
      "text/plain": [
       "int"
      ]
     },
     "execution_count": 3,
     "metadata": {},
     "output_type": "execute_result"
    }
   ],
   "source": [
    "type(list1[2])"
   ]
  },
  {
   "cell_type": "code",
   "execution_count": 4,
   "id": "1e57a642",
   "metadata": {},
   "outputs": [
    {
     "data": {
      "text/plain": [
       "[1]"
      ]
     },
     "execution_count": 4,
     "metadata": {},
     "output_type": "execute_result"
    }
   ],
   "source": [
    "list1[0:1]"
   ]
  },
  {
   "cell_type": "code",
   "execution_count": 5,
   "id": "9282b744",
   "metadata": {},
   "outputs": [
    {
     "data": {
      "text/plain": [
       "list"
      ]
     },
     "execution_count": 5,
     "metadata": {},
     "output_type": "execute_result"
    }
   ],
   "source": [
    "type(list1[0:1])"
   ]
  },
  {
   "cell_type": "markdown",
   "id": "b15c50aa",
   "metadata": {},
   "source": [
    "# Mutable and Immutable"
   ]
  },
  {
   "cell_type": "code",
   "execution_count": 6,
   "id": "ee272738",
   "metadata": {},
   "outputs": [
    {
     "name": "stdout",
     "output_type": "stream",
     "text": [
      "7 5\n"
     ]
    }
   ],
   "source": [
    "x=5\n",
    "y=x\n",
    "x=7\n",
    "print(x,y)"
   ]
  },
  {
   "cell_type": "code",
   "execution_count": 7,
   "id": "c1ef44ee",
   "metadata": {},
   "outputs": [
    {
     "name": "stdout",
     "output_type": "stream",
     "text": [
      "[1, 3, 4, 7]\n",
      "[1, 3, 4, 7]\n"
     ]
    }
   ],
   "source": [
    "lst1=[1,3,5,7]\n",
    "lst2=lst1\n",
    "lst1[2]=4\n",
    "print(lst1)\n",
    "print(lst2)"
   ]
  },
  {
   "cell_type": "code",
   "execution_count": 8,
   "id": "ec3618ff",
   "metadata": {},
   "outputs": [
    {
     "name": "stdout",
     "output_type": "stream",
     "text": [
      "True\n",
      "True\n",
      "False\n",
      "True\n"
     ]
    }
   ],
   "source": [
    "lst1=[1,3,5,7]\n",
    "lst2=[1,3,5,7]\n",
    "lst3=lst2\n",
    "\n",
    "print(lst1==lst2)\n",
    "print(lst2==lst3)\n",
    "print(lst1 is lst2)\n",
    "print(lst2 is lst3)"
   ]
  },
  {
   "cell_type": "code",
   "execution_count": 9,
   "id": "d5393dbc",
   "metadata": {},
   "outputs": [
    {
     "data": {
      "text/plain": [
       "[1, 3, 5, 7, 1, 3, 5, 7]"
      ]
     },
     "execution_count": 9,
     "metadata": {},
     "output_type": "execute_result"
    }
   ],
   "source": [
    "lst3=lst1+lst2\n",
    "lst3"
   ]
  },
  {
   "cell_type": "code",
   "execution_count": 10,
   "id": "c914070f",
   "metadata": {},
   "outputs": [
    {
     "name": "stdout",
     "output_type": "stream",
     "text": [
      "[1, 3, 5, 7]\n",
      "[1, 3, 5, 7]\n"
     ]
    }
   ],
   "source": [
    "list1=[1,3,5,7]\n",
    "list2=list1\n",
    "print(list1)\n",
    "print(list2)"
   ]
  },
  {
   "cell_type": "markdown",
   "id": "da28fbff",
   "metadata": {},
   "source": [
    "# append()"
   ]
  },
  {
   "cell_type": "code",
   "execution_count": 11,
   "id": "f372f57b",
   "metadata": {},
   "outputs": [
    {
     "name": "stdout",
     "output_type": "stream",
     "text": [
      "[1, 3, 5, 7, 12]\n",
      "[1, 3, 5, 7, 12]\n"
     ]
    }
   ],
   "source": [
    "list1.append(12)\n",
    "print(list1)\n",
    "print(list2)"
   ]
  },
  {
   "cell_type": "code",
   "execution_count": 12,
   "id": "21fa6b48",
   "metadata": {},
   "outputs": [
    {
     "name": "stdout",
     "output_type": "stream",
     "text": [
      "[1, 3, 5, 7, 12]\n",
      "[1, 3, 5, 7]\n"
     ]
    }
   ],
   "source": [
    "list1=[1,3,5,7]\n",
    "list2=list1\n",
    "list1=list1+[12]\n",
    "\n",
    "print(list1)\n",
    "print(list2)"
   ]
  },
  {
   "cell_type": "markdown",
   "id": "24cec78d",
   "metadata": {},
   "source": [
    "# extend()"
   ]
  },
  {
   "cell_type": "code",
   "execution_count": 14,
   "id": "3faa05ab",
   "metadata": {},
   "outputs": [
    {
     "data": {
      "text/plain": [
       "[1, 3, 5, 7, 12, 1, 2, 3]"
      ]
     },
     "execution_count": 14,
     "metadata": {},
     "output_type": "execute_result"
    }
   ],
   "source": [
    "list1.extend([1,2,3])\n",
    "list1"
   ]
  },
  {
   "cell_type": "markdown",
   "id": "e7f15318",
   "metadata": {},
   "source": [
    "# remove()"
   ]
  },
  {
   "cell_type": "code",
   "execution_count": 15,
   "id": "a80e3c44",
   "metadata": {},
   "outputs": [],
   "source": [
    "list1.remove(1)"
   ]
  },
  {
   "cell_type": "code",
   "execution_count": 16,
   "id": "c836bc33",
   "metadata": {},
   "outputs": [
    {
     "data": {
      "text/plain": [
       "[3, 5, 7, 12, 1, 2, 3]"
      ]
     },
     "execution_count": 16,
     "metadata": {},
     "output_type": "execute_result"
    }
   ],
   "source": [
    "list1"
   ]
  },
  {
   "cell_type": "code",
   "execution_count": 17,
   "id": "9326093b",
   "metadata": {},
   "outputs": [
    {
     "data": {
      "text/plain": [
       "[1, 2, 3, 4, 5, 5, 6, 7, 1, 2, 3, 4, 3]"
      ]
     },
     "execution_count": 17,
     "metadata": {},
     "output_type": "execute_result"
    }
   ],
   "source": [
    "list1=[1,2,3,4,5,5,6,7,1,2,3,4,3]\n",
    "list1"
   ]
  },
  {
   "cell_type": "code",
   "execution_count": 18,
   "id": "a5f4aa25",
   "metadata": {},
   "outputs": [],
   "source": [
    "if 3 in list1:\n",
    "    list1.remove(3)"
   ]
  },
  {
   "cell_type": "code",
   "execution_count": 19,
   "id": "5b089db7",
   "metadata": {},
   "outputs": [
    {
     "data": {
      "text/plain": [
       "[1, 2, 4, 5, 5, 6, 7, 1, 2, 3, 4, 3]"
      ]
     },
     "execution_count": 19,
     "metadata": {},
     "output_type": "execute_result"
    }
   ],
   "source": [
    "list1"
   ]
  },
  {
   "cell_type": "markdown",
   "id": "3b5e2e91",
   "metadata": {},
   "source": [
    "# indexing in list()"
   ]
  },
  {
   "cell_type": "code",
   "execution_count": 52,
   "id": "85d0b4d8",
   "metadata": {},
   "outputs": [
    {
     "data": {
      "text/plain": [
       "[1, 2, 4, 5, 5, 6, 7, 1, 2, 3, 4, 3]"
      ]
     },
     "execution_count": 52,
     "metadata": {},
     "output_type": "execute_result"
    }
   ],
   "source": [
    "list1[:]"
   ]
  },
  {
   "cell_type": "code",
   "execution_count": 54,
   "id": "c2e8298a",
   "metadata": {},
   "outputs": [
    {
     "data": {
      "text/plain": [
       "[2, 4, 5, 5, 6, 7, 1, 2, 3, 4, 3]"
      ]
     },
     "execution_count": 54,
     "metadata": {},
     "output_type": "execute_result"
    }
   ],
   "source": [
    "list1[1:]"
   ]
  },
  {
   "cell_type": "code",
   "execution_count": 56,
   "id": "aabcf0a8",
   "metadata": {},
   "outputs": [
    {
     "data": {
      "text/plain": [
       "[2, 4, 5]"
      ]
     },
     "execution_count": 56,
     "metadata": {},
     "output_type": "execute_result"
    }
   ],
   "source": [
    "list1[1:4]"
   ]
  },
  {
   "cell_type": "code",
   "execution_count": 57,
   "id": "932fa0c3",
   "metadata": {},
   "outputs": [
    {
     "data": {
      "text/plain": [
       "[1, 2, 4, 5, 5, 6]"
      ]
     },
     "execution_count": 57,
     "metadata": {},
     "output_type": "execute_result"
    }
   ],
   "source": [
    "list1[:6]"
   ]
  },
  {
   "cell_type": "markdown",
   "id": "a9429543",
   "metadata": {},
   "source": [
    "# 2.set()"
   ]
  },
  {
   "cell_type": "code",
   "execution_count": 20,
   "id": "fae16c12",
   "metadata": {},
   "outputs": [],
   "source": [
    "a={1,2,3,4,4,4}"
   ]
  },
  {
   "cell_type": "code",
   "execution_count": 21,
   "id": "588fb62f",
   "metadata": {},
   "outputs": [
    {
     "data": {
      "text/plain": [
       "{1, 2, 3, 4}"
      ]
     },
     "execution_count": 21,
     "metadata": {},
     "output_type": "execute_result"
    }
   ],
   "source": [
    "a"
   ]
  },
  {
   "cell_type": "code",
   "execution_count": 22,
   "id": "a6382d89",
   "metadata": {},
   "outputs": [
    {
     "data": {
      "text/plain": [
       "set"
      ]
     },
     "execution_count": 22,
     "metadata": {},
     "output_type": "execute_result"
    }
   ],
   "source": [
    "type(a)"
   ]
  },
  {
   "cell_type": "code",
   "execution_count": 23,
   "id": "65679c23",
   "metadata": {},
   "outputs": [],
   "source": [
    "set={1,2,\"name\",1.2}"
   ]
  },
  {
   "cell_type": "code",
   "execution_count": 24,
   "id": "e7405fed",
   "metadata": {},
   "outputs": [
    {
     "data": {
      "text/plain": [
       "{1, 1.2, 2, 'name'}"
      ]
     },
     "execution_count": 24,
     "metadata": {},
     "output_type": "execute_result"
    }
   ],
   "source": [
    "set"
   ]
  },
  {
   "cell_type": "code",
   "execution_count": 26,
   "id": "ad845fe0",
   "metadata": {},
   "outputs": [
    {
     "name": "stdout",
     "output_type": "stream",
     "text": [
      "1.2\n",
      "1\n",
      "2\n",
      "name\n"
     ]
    }
   ],
   "source": [
    "for i in set:\n",
    "    print(i)"
   ]
  },
  {
   "cell_type": "code",
   "execution_count": 27,
   "id": "36e0e267",
   "metadata": {},
   "outputs": [],
   "source": [
    "set2={5,6,7,9}"
   ]
  },
  {
   "cell_type": "code",
   "execution_count": 28,
   "id": "504e68c1",
   "metadata": {},
   "outputs": [
    {
     "data": {
      "text/plain": [
       "{5, 6, 7, 9}"
      ]
     },
     "execution_count": 28,
     "metadata": {},
     "output_type": "execute_result"
    }
   ],
   "source": [
    "set2"
   ]
  },
  {
   "cell_type": "code",
   "execution_count": 29,
   "id": "a7de7385",
   "metadata": {},
   "outputs": [],
   "source": [
    "set2.add(\"priya\")"
   ]
  },
  {
   "cell_type": "code",
   "execution_count": 30,
   "id": "cc9c444c",
   "metadata": {},
   "outputs": [
    {
     "data": {
      "text/plain": [
       "{5, 6, 7, 9, 'priya'}"
      ]
     },
     "execution_count": 30,
     "metadata": {},
     "output_type": "execute_result"
    }
   ],
   "source": [
    "set2"
   ]
  },
  {
   "cell_type": "markdown",
   "id": "43778a8b",
   "metadata": {},
   "source": [
    "# 3.Dictionary"
   ]
  },
  {
   "cell_type": "code",
   "execution_count": 31,
   "id": "eb2f3434",
   "metadata": {},
   "outputs": [],
   "source": [
    "dict1={\"name1\":\"priya\",\"name2\":\"sudhanva\",2.3:\"arisglobal\",1.2:28000000}"
   ]
  },
  {
   "cell_type": "code",
   "execution_count": 32,
   "id": "d873643a",
   "metadata": {},
   "outputs": [
    {
     "data": {
      "text/plain": [
       "{'name1': 'priya', 'name2': 'sudhanva', 2.3: 'arisglobal', 1.2: 28000000}"
      ]
     },
     "execution_count": 32,
     "metadata": {},
     "output_type": "execute_result"
    }
   ],
   "source": [
    "dict1"
   ]
  },
  {
   "cell_type": "code",
   "execution_count": 33,
   "id": "7a9b4876",
   "metadata": {},
   "outputs": [
    {
     "data": {
      "text/plain": [
       "dict"
      ]
     },
     "execution_count": 33,
     "metadata": {},
     "output_type": "execute_result"
    }
   ],
   "source": [
    "type(dict1)"
   ]
  },
  {
   "cell_type": "code",
   "execution_count": 34,
   "id": "f2e546ea",
   "metadata": {},
   "outputs": [
    {
     "data": {
      "text/plain": [
       "4"
      ]
     },
     "execution_count": 34,
     "metadata": {},
     "output_type": "execute_result"
    }
   ],
   "source": [
    "len(dict1)"
   ]
  },
  {
   "cell_type": "code",
   "execution_count": 35,
   "id": "98cd048f",
   "metadata": {},
   "outputs": [],
   "source": [
    "dict2={'car':'bmw',\n",
    "       'petrol':'False',\n",
    "       'year':2020,\n",
    "       'color':['red','black','blue']\n",
    "    }"
   ]
  },
  {
   "cell_type": "code",
   "execution_count": 36,
   "id": "c1692406",
   "metadata": {},
   "outputs": [
    {
     "data": {
      "text/plain": [
       "{'car': 'bmw',\n",
       " 'petrol': 'False',\n",
       " 'year': 2020,\n",
       " 'color': ['red', 'black', 'blue']}"
      ]
     },
     "execution_count": 36,
     "metadata": {},
     "output_type": "execute_result"
    }
   ],
   "source": [
    "dict2"
   ]
  },
  {
   "cell_type": "code",
   "execution_count": 39,
   "id": "24edf0c5",
   "metadata": {},
   "outputs": [
    {
     "data": {
      "text/plain": [
       "'bmw'"
      ]
     },
     "execution_count": 39,
     "metadata": {},
     "output_type": "execute_result"
    }
   ],
   "source": [
    "dict2[\"car\"]"
   ]
  },
  {
   "cell_type": "code",
   "execution_count": 40,
   "id": "dc9bcaae",
   "metadata": {},
   "outputs": [
    {
     "data": {
      "text/plain": [
       "['red', 'black', 'blue']"
      ]
     },
     "execution_count": 40,
     "metadata": {},
     "output_type": "execute_result"
    }
   ],
   "source": [
    "dict2[\"color\"]"
   ]
  },
  {
   "cell_type": "code",
   "execution_count": 41,
   "id": "205f4e8e",
   "metadata": {},
   "outputs": [
    {
     "data": {
      "text/plain": [
       "dict_keys(['car', 'petrol', 'year', 'color'])"
      ]
     },
     "execution_count": 41,
     "metadata": {},
     "output_type": "execute_result"
    }
   ],
   "source": [
    "dict2.keys()"
   ]
  },
  {
   "cell_type": "code",
   "execution_count": 42,
   "id": "1a89a9cb",
   "metadata": {},
   "outputs": [
    {
     "data": {
      "text/plain": [
       "dict_values(['bmw', 'False', 2020, ['red', 'black', 'blue']])"
      ]
     },
     "execution_count": 42,
     "metadata": {},
     "output_type": "execute_result"
    }
   ],
   "source": [
    "dict2.values()"
   ]
  },
  {
   "cell_type": "code",
   "execution_count": 43,
   "id": "def30f09",
   "metadata": {},
   "outputs": [
    {
     "name": "stdout",
     "output_type": "stream",
     "text": [
      "{'car': 'bmw', 'petrol': 'False', 'year': 2021, 'color': ['red', 'black', 'blue']}\n"
     ]
    }
   ],
   "source": [
    "dict2[\"year\"]=2021\n",
    "print(dict2)"
   ]
  },
  {
   "cell_type": "code",
   "execution_count": 44,
   "id": "d2bf0f71",
   "metadata": {},
   "outputs": [
    {
     "data": {
      "text/plain": [
       "dict_items([('car', 'bmw'), ('petrol', 'False'), ('year', 2021), ('color', ['red', 'black', 'blue'])])"
      ]
     },
     "execution_count": 44,
     "metadata": {},
     "output_type": "execute_result"
    }
   ],
   "source": [
    "dict2.items()"
   ]
  },
  {
   "cell_type": "code",
   "execution_count": 45,
   "id": "06c7cc3d",
   "metadata": {},
   "outputs": [
    {
     "name": "stdout",
     "output_type": "stream",
     "text": [
      "car key is present\n"
     ]
    }
   ],
   "source": [
    "if \"car\" in dict2:\n",
    "    print(\"car key is present\")"
   ]
  },
  {
   "cell_type": "code",
   "execution_count": 46,
   "id": "9ee1457a",
   "metadata": {},
   "outputs": [],
   "source": [
    "dict2={\n",
    "    \"buyername\":{\"name\":\"john\"},'car':'bmw',\n",
    "       'petrol':'False',\n",
    "       'year':2020,\n",
    "       'color':['red','black','blue']\n",
    "    }"
   ]
  },
  {
   "cell_type": "code",
   "execution_count": 47,
   "id": "24325a51",
   "metadata": {},
   "outputs": [
    {
     "data": {
      "text/plain": [
       "{'buyername': {'name': 'john'},\n",
       " 'car': 'bmw',\n",
       " 'petrol': 'False',\n",
       " 'year': 2020,\n",
       " 'color': ['red', 'black', 'blue']}"
      ]
     },
     "execution_count": 47,
     "metadata": {},
     "output_type": "execute_result"
    }
   ],
   "source": [
    "dict2"
   ]
  },
  {
   "cell_type": "markdown",
   "id": "738fad81",
   "metadata": {},
   "source": [
    "# 4.OPERATIONS"
   ]
  },
  {
   "cell_type": "code",
   "execution_count": 81,
   "id": "c08364dd",
   "metadata": {},
   "outputs": [
    {
     "name": "stdout",
     "output_type": "stream",
     "text": [
      "200\n",
      "0.5\n",
      "10\n",
      "Python\n",
      "10.5\n"
     ]
    }
   ],
   "source": [
    "a=10\n",
    "b=20\n",
    "c='Python'\n",
    "print(a*b)\n",
    "print(a/b)\n",
    "print(a%b)\n",
    "print(c)\n",
    "print((a/b)+(a%b))"
   ]
  },
  {
   "cell_type": "markdown",
   "id": "7eb85f7e",
   "metadata": {},
   "source": [
    "# 5. BINARY"
   ]
  },
  {
   "cell_type": "code",
   "execution_count": 102,
   "id": "31b489ac",
   "metadata": {},
   "outputs": [
    {
     "name": "stdout",
     "output_type": "stream",
     "text": [
      "The given array is [1, 2, 3, 4, 5, 6, 7]\n",
      "Element to be found is  4\n",
      "The Index of the element is 3\n"
     ]
    }
   ],
   "source": [
    "def binary_search(arr, a, low, high):\n",
    "\n",
    "    while low <= high:\n",
    "\n",
    "        mid = low + (high - low)//2\n",
    "\n",
    "        if arr[mid] == a:\n",
    "            return mid\n",
    "\n",
    "        elif array[mid] < a:\n",
    "            low = mid + 1\n",
    "\n",
    "        else:\n",
    "            high = mid - 1\n",
    "\n",
    "    return -1\n",
    "\n",
    "arr = [1, 2, 3, 4, 5, 6, 7]\n",
    "a = 4\n",
    "\n",
    "print(\"The given array is\", arr)\n",
    "\n",
    "print(\"Element to be found is \", a)\n",
    "\n",
    "index = binary_search(arr, a, 0, len(arr)-1)\n",
    "\n",
    "if index != -1:\n",
    "    print(\"The Index of the element is \" + str(index))\n",
    "else:\n",
    "    print(\"Element Not found\")"
   ]
  },
  {
   "cell_type": "code",
   "execution_count": null,
   "id": "18381552",
   "metadata": {},
   "outputs": [],
   "source": [
    "n=2\n",
    "for i in range(1, 11):\n",
    "   print(num, 'x', i, '=', num*i)"
   ]
  },
  {
   "cell_type": "code",
   "execution_count": 107,
   "id": "f765e0d5",
   "metadata": {},
   "outputs": [
    {
     "name": "stdout",
     "output_type": "stream",
     "text": [
      "enter num : 9\n"
     ]
    },
    {
     "ename": "TypeError",
     "evalue": "'list' object is not callable",
     "output_type": "error",
     "traceback": [
      "\u001b[1;31m---------------------------------------------------------------------------\u001b[0m",
      "\u001b[1;31mTypeError\u001b[0m                                 Traceback (most recent call last)",
      "\u001b[1;32m<ipython-input-107-b1b4c0b1635c>\u001b[0m in \u001b[0;36m<module>\u001b[1;34m\u001b[0m\n\u001b[0;32m      2\u001b[0m \u001b[0mnum\u001b[0m\u001b[1;33m=\u001b[0m\u001b[0mint\u001b[0m\u001b[1;33m(\u001b[0m\u001b[0minput\u001b[0m\u001b[1;33m(\u001b[0m\u001b[1;34m'enter num : '\u001b[0m\u001b[1;33m)\u001b[0m\u001b[1;33m)\u001b[0m\u001b[1;33m\u001b[0m\u001b[1;33m\u001b[0m\u001b[0m\n\u001b[0;32m      3\u001b[0m \u001b[1;33m\u001b[0m\u001b[0m\n\u001b[1;32m----> 4\u001b[1;33m \u001b[0moutput\u001b[0m\u001b[1;33m=\u001b[0m\u001b[0mlist\u001b[0m\u001b[1;33m(\u001b[0m\u001b[0mmap\u001b[0m\u001b[1;33m(\u001b[0m\u001b[1;32mlambda\u001b[0m \u001b[0mnumber\u001b[0m\u001b[1;33m:\u001b[0m\u001b[0mnumber\u001b[0m\u001b[1;33m*\u001b[0m\u001b[0mnum\u001b[0m\u001b[1;33m,\u001b[0m\u001b[0mmultiples\u001b[0m\u001b[1;33m)\u001b[0m\u001b[1;33m)\u001b[0m\u001b[1;33m\u001b[0m\u001b[1;33m\u001b[0m\u001b[0m\n\u001b[0m\u001b[0;32m      5\u001b[0m \u001b[0mprint\u001b[0m\u001b[1;33m(\u001b[0m\u001b[0moutput\u001b[0m\u001b[1;33m)\u001b[0m\u001b[1;33m\u001b[0m\u001b[1;33m\u001b[0m\u001b[0m\n",
      "\u001b[1;31mTypeError\u001b[0m: 'list' object is not callable"
     ]
    }
   ],
   "source": [
    "multiples=[1,2,3,4,5,6,7,8,9,10]\n",
    "num=int(input('enter num : '))\n",
    "\n",
    "output=list(map(lambda number:number*num,multiples))\n",
    "print(output)"
   ]
  },
  {
   "cell_type": "markdown",
   "id": "7bc2edbd",
   "metadata": {},
   "source": [
    "# 8.EXTEND LIST"
   ]
  },
  {
   "cell_type": "code",
   "execution_count": 105,
   "id": "b7b26248",
   "metadata": {},
   "outputs": [
    {
     "name": "stdout",
     "output_type": "stream",
     "text": [
      "[1, 2, 3, 4, 5, 30]\n",
      "[1, 2, 3, 4, 5, 30, 'ABCDEF', 'HIJKLUO']\n"
     ]
    }
   ],
   "source": [
    "List=[1,2,3,4,5]\n",
    "al=[\"ABCDEF\",\"HIJKLUO\"]\n",
    "List.append(30)\n",
    "print(List)\n",
    "List.extend(al)\n",
    "print(List)"
   ]
  },
  {
   "cell_type": "markdown",
   "id": "a7d77794",
   "metadata": {},
   "source": [
    "# 7. APPEND"
   ]
  },
  {
   "cell_type": "code",
   "execution_count": 87,
   "id": "6741f1f5",
   "metadata": {},
   "outputs": [
    {
     "name": "stdout",
     "output_type": "stream",
     "text": [
      "1\n",
      "2\n",
      "3\n",
      "4\n",
      "[1, 2, 3, 4, 5]\n"
     ]
    }
   ],
   "source": [
    "list=[1,2,3,4]\n",
    "\n",
    "for i in list:\n",
    "    print(i)\n",
    "list.append(5)\n",
    "print(list)"
   ]
  },
  {
   "cell_type": "markdown",
   "id": "134d2227",
   "metadata": {},
   "source": [
    "# 9.SQUARE ROOT"
   ]
  },
  {
   "cell_type": "code",
   "execution_count": 82,
   "id": "14fd3029",
   "metadata": {},
   "outputs": [
    {
     "name": "stdout",
     "output_type": "stream",
     "text": [
      "Enter a number:6\n",
      "36\n"
     ]
    }
   ],
   "source": [
    "n=(int(input(\"Enter a number:\")))\n",
    "square=n**2\n",
    "print(square)"
   ]
  },
  {
   "cell_type": "markdown",
   "id": "9f961dd9",
   "metadata": {},
   "source": [
    "# 10.LEAP YEAR"
   ]
  },
  {
   "cell_type": "code",
   "execution_count": 84,
   "id": "6d7aa42a",
   "metadata": {},
   "outputs": [
    {
     "name": "stdout",
     "output_type": "stream",
     "text": [
      "1999 is not a leap year\n"
     ]
    }
   ],
   "source": [
    "year=1999\n",
    "if (year % 4) == 0:\n",
    "    if(year % 100) == 0:\n",
    "        if(year % 400) == 0:\n",
    "            print(\"{0} is a leap year\".format(year))\n",
    "        else:\n",
    "            print(\"{0} is not a leap year\".format(year))\n",
    "    else:\n",
    "        print(\"{0} is a leap year\".format(year))\n",
    "else:\n",
    "    print(\"{0} is not a leap year\".format(year))"
   ]
  },
  {
   "cell_type": "markdown",
   "id": "3107b325",
   "metadata": {},
   "source": [
    "# 11. PRIME"
   ]
  },
  {
   "cell_type": "code",
   "execution_count": 69,
   "id": "c907f2c2",
   "metadata": {},
   "outputs": [
    {
     "name": "stdout",
     "output_type": "stream",
     "text": [
      "56 is not a prime number\n"
     ]
    }
   ],
   "source": [
    "num = 56\n",
    "if num>1:\n",
    "    for i in range(2, int(num/2)+1):\n",
    "        if (num % i) == 0:\n",
    "            print(num, \"is not a prime number\")\n",
    "            break\n",
    "        else:\n",
    "            print(num, \"is a prime number\")\n",
    "else:\n",
    "    print(num, \"is not a prime number\")"
   ]
  },
  {
   "cell_type": "code",
   "execution_count": null,
   "id": "2ee11dc0",
   "metadata": {},
   "outputs": [],
   "source": []
  },
  {
   "cell_type": "code",
   "execution_count": 77,
   "id": "b26bf94f",
   "metadata": {},
   "outputs": [
    {
     "name": "stdout",
     "output_type": "stream",
     "text": [
      "Enter a number:4\n",
      "16\n"
     ]
    }
   ],
   "source": [
    "n=(int(input(\"Enter a number:\")))\n",
    "square=n**2\n",
    "print(square)"
   ]
  },
  {
   "cell_type": "code",
   "execution_count": null,
   "id": "3a30b6d8",
   "metadata": {},
   "outputs": [],
   "source": []
  }
 ],
 "metadata": {
  "kernelspec": {
   "display_name": "Python 3",
   "language": "python",
   "name": "python3"
  },
  "language_info": {
   "codemirror_mode": {
    "name": "ipython",
    "version": 3
   },
   "file_extension": ".py",
   "mimetype": "text/x-python",
   "name": "python",
   "nbconvert_exporter": "python",
   "pygments_lexer": "ipython3",
   "version": "3.8.8"
  }
 },
 "nbformat": 4,
 "nbformat_minor": 5
}
