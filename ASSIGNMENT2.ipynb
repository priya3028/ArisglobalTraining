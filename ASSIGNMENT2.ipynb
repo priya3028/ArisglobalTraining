{
 "cells": [
  {
   "cell_type": "markdown",
   "id": "c230c56e",
   "metadata": {},
   "source": [
    "# Fibonacci Series"
   ]
  },
  {
   "cell_type": "code",
   "execution_count": 15,
   "id": "d989923c",
   "metadata": {},
   "outputs": [
    {
     "name": "stdout",
     "output_type": "stream",
     "text": [
      "Enter the value of n: 4\n",
      "Fibonacci Series:  0 1 1 2 "
     ]
    }
   ],
   "source": [
    "n = int(input(\"Enter the value of n: \"))\n",
    "a = 0\n",
    "b = 1\n",
    "sum = 0\n",
    "count = 1\n",
    "print(\"Fibonacci Series: \", end = \" \")\n",
    "while(count <= n):\n",
    "    print(sum, end = \" \")\n",
    "    count += 1\n",
    "    a = b\n",
    "    b = sum\n",
    "    sum = a + b"
   ]
  },
  {
   "cell_type": "markdown",
   "id": "c0cd6c7c",
   "metadata": {},
   "source": [
    "# Palindrome"
   ]
  },
  {
   "cell_type": "code",
   "execution_count": 9,
   "id": "0e654abe",
   "metadata": {},
   "outputs": [
    {
     "name": "stdout",
     "output_type": "stream",
     "text": [
      "Yes\n"
     ]
    }
   ],
   "source": [
    "def isPalindrome(s):\n",
    "    return s == s[0:]\n",
    "s = \"malayalam\"\n",
    "ans = isPalindrome(s)\n",
    " \n",
    "if ans:\n",
    "    print(\"Yes\")\n",
    "else:\n",
    "    print(\"No\")"
   ]
  },
  {
   "cell_type": "markdown",
   "id": "30cf6a11",
   "metadata": {},
   "source": [
    "# list is empty or not"
   ]
  },
  {
   "cell_type": "code",
   "execution_count": 4,
   "id": "27641996",
   "metadata": {},
   "outputs": [
    {
     "name": "stdout",
     "output_type": "stream",
     "text": [
      "empty\n"
     ]
    }
   ],
   "source": [
    "def n(list):\n",
    "    if list==0:\n",
    "        return 1\n",
    "    else:\n",
    "        return 0\n",
    "    \n",
    "list=[]\n",
    "if n(list):\n",
    "    print(\"not empty\")\n",
    "else:\n",
    "    print(\"empty\")"
   ]
  },
  {
   "cell_type": "markdown",
   "id": "54a70f49",
   "metadata": {},
   "source": [
    "# array reverse"
   ]
  },
  {
   "cell_type": "code",
   "execution_count": 5,
   "id": "74aa5e08",
   "metadata": {},
   "outputs": [
    {
     "name": "stdout",
     "output_type": "stream",
     "text": [
      "[1, 2, 3, 4, 5]\n"
     ]
    }
   ],
   "source": [
    "arr=[1,2,3,4,5]\n",
    "print(arr)"
   ]
  },
  {
   "cell_type": "code",
   "execution_count": 13,
   "id": "ab2a27da",
   "metadata": {},
   "outputs": [],
   "source": [
    "rev=arr[::-1]"
   ]
  },
  {
   "cell_type": "code",
   "execution_count": 14,
   "id": "7975d63d",
   "metadata": {},
   "outputs": [
    {
     "data": {
      "text/plain": [
       "[5, 4, 3, 2, 1]"
      ]
     },
     "execution_count": 14,
     "metadata": {},
     "output_type": "execute_result"
    }
   ],
   "source": [
    "rev"
   ]
  },
  {
   "cell_type": "markdown",
   "id": "de8487fc",
   "metadata": {},
   "source": [
    "# Arithmetic progression"
   ]
  },
  {
   "cell_type": "code",
   "execution_count": null,
   "id": "1db7f844",
   "metadata": {},
   "outputs": [],
   "source": [
    "def print_arithmetic_progression(a, d, n):\n",
    "    current_value = a\n",
    "\n",
    "    for i in range(0, n):\n",
    "        print(current_value, end=' ')\n",
    "        current_value = current_value + d\n",
    "\n",
    "\n",
    "a = int(input('Enter the start number: '))\n",
    "d = int(input('Enter the common difference: '))\n",
    "n = int(input('Enter total numbers to print: '))\n",
    "print_arithmetic_progression(a, d, n)"
   ]
  },
  {
   "cell_type": "markdown",
   "id": "0ff2eae5",
   "metadata": {},
   "source": [
    "# Sum of AP"
   ]
  },
  {
   "cell_type": "code",
   "execution_count": 2,
   "id": "97403799",
   "metadata": {},
   "outputs": [
    {
     "name": "stdout",
     "output_type": "stream",
     "text": [
      "enter the first number:10\n",
      "enter the number:20\n",
      "enter the common difference30\n",
      "1550\n"
     ]
    }
   ],
   "source": [
    "def sumOfAP(a,d,n):\n",
    "    sum=0\n",
    "    i=0\n",
    "    while i<n:\n",
    "        sum=sum+a\n",
    "        a=a+d\n",
    "        i=i+1\n",
    "    return sum\n",
    "n =int(input(\"enter the first number:\"))\n",
    "a=int(input(\"enter the number:\"))\n",
    "d=int(input(\"enter the common difference\"))\n",
    "print(sumOfAP(a, d, n))"
   ]
  },
  {
   "cell_type": "markdown",
   "id": "afe6a319",
   "metadata": {},
   "source": [
    "# Arithmetic Operation"
   ]
  },
  {
   "cell_type": "code",
   "execution_count": null,
   "id": "69b78702",
   "metadata": {},
   "outputs": [
    {
     "name": "stdout",
     "output_type": "stream",
     "text": [
      "Enter first number: 10\n",
      "Enter second number: 20\n",
      "0. Exit\n",
      "1. Add\n",
      "2. Subtraction\n",
      "3. Multiplication\n",
      "4. Division\n",
      "Enter choice: 1\n",
      "Result: 30\n",
      "0. Exit\n",
      "1. Add\n",
      "2. Subtraction\n",
      "3. Multiplication\n",
      "4. Division\n"
     ]
    }
   ],
   "source": [
    "class arith():\n",
    "    def __init__(self,a,b):\n",
    "        self.a=a\n",
    "        self.b=b\n",
    "    def add(self):\n",
    "        return a+b\n",
    "    def mul(self):\n",
    "        return a*b\n",
    "    def div(self):\n",
    "        return a/b\n",
    "    def sub(self):\n",
    "        return a-b\n",
    "a=int(input(\"Enter first number: \"))\n",
    "b=int(input(\"Enter second number: \"))\n",
    "obj=arith(a,b)\n",
    "choice=1\n",
    "while choice!=0:\n",
    "    print(\"0. Exit\")\n",
    "    print(\"1. Add\")\n",
    "    print(\"2. Subtraction\")\n",
    "    print(\"3. Multiplication\")\n",
    "    print(\"4. Division\")\n",
    "    choice=int(input(\"Enter choice: \"))\n",
    "    if choice==1:\n",
    "        print(\"Result:\",obj.add())\n",
    "    elif choice==2:\n",
    "        print(\"Result:\",obj.sub())\n",
    "    elif choice==3:\n",
    "        print(\"Result:\",obj.mul())\n",
    "    elif choice==4:\n",
    "        print(\"Result:\",round(obj.div(),2))\n",
    "    elif choice==0:\n",
    "        print(\"Exiting!\")\n",
    "    else:\n",
    "        print(\"Invalid choice!!\")\n",
    "print()"
   ]
  },
  {
   "cell_type": "code",
   "execution_count": null,
   "id": "caedcdf0",
   "metadata": {},
   "outputs": [],
   "source": []
  }
 ],
 "metadata": {
  "kernelspec": {
   "display_name": "Python 3",
   "language": "python",
   "name": "python3"
  },
  "language_info": {
   "codemirror_mode": {
    "name": "ipython",
    "version": 3
   },
   "file_extension": ".py",
   "mimetype": "text/x-python",
   "name": "python",
   "nbconvert_exporter": "python",
   "pygments_lexer": "ipython3",
   "version": "3.8.8"
  }
 },
 "nbformat": 4,
 "nbformat_minor": 5
}
